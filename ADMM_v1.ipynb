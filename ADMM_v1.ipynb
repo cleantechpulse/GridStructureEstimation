{
 "cells": [
  {
   "cell_type": "markdown",
   "metadata": {},
   "source": [
    "# THIS IS NOW OUTDATED - SEE ADMM_v2 \n",
    "This documents the helper function creation, which have since been moved to A"
   ]
  },
  {
   "cell_type": "code",
   "execution_count": 4,
   "metadata": {},
   "outputs": [
    {
     "name": "stdout",
     "output_type": "stream",
     "text": [
      "Current environment directory:/Users/emunsing/GoogleDrive/Papers/GridStructureEstimation/Coding/Python/env/bin/..\n",
      "System version: 2.7.12 (default, Aug 23 2016, 08:54:23) \n",
      "[GCC 4.2.1 Compatible Apple LLVM 7.3.0 (clang-703.0.31)]\n",
      "Current working directory: /Users/emunsing/GoogleDrive/Papers/GridStructureEstimation/Coding/Python\n"
     ]
    }
   ],
   "source": [
    "import pandas as pd\n",
    "import numpy as np\n",
    "import scipy as sp\n",
    "from cvxpy import *\n",
    "import os, sys, time\n",
    "import matplotlib.pyplot as plt\n",
    "%matplotlib inline\n",
    "\n",
    "print(\"Current environment directory:\" + sys.prefix)\n",
    "print(\"System version: \"+sys.version)\n",
    "print(\"Current working directory: \"+os.getcwd())"
   ]
  },
  {
   "cell_type": "code",
   "execution_count": 5,
   "metadata": {},
   "outputs": [
    {
     "name": "stdout",
     "output_type": "stream",
     "text": [
      "(14, 288)\n"
     ]
    },
    {
     "data": {
      "text/html": [
       "<div>\n",
       "<table border=\"1\" class=\"dataframe\">\n",
       "  <thead>\n",
       "    <tr style=\"text-align: right;\">\n",
       "      <th></th>\n",
       "      <th>0</th>\n",
       "      <th>1</th>\n",
       "      <th>2</th>\n",
       "      <th>3</th>\n",
       "      <th>4</th>\n",
       "      <th>5</th>\n",
       "      <th>6</th>\n",
       "      <th>7</th>\n",
       "      <th>8</th>\n",
       "      <th>9</th>\n",
       "      <th>...</th>\n",
       "      <th>278</th>\n",
       "      <th>279</th>\n",
       "      <th>280</th>\n",
       "      <th>281</th>\n",
       "      <th>282</th>\n",
       "      <th>283</th>\n",
       "      <th>284</th>\n",
       "      <th>285</th>\n",
       "      <th>286</th>\n",
       "      <th>287</th>\n",
       "    </tr>\n",
       "  </thead>\n",
       "  <tbody>\n",
       "    <tr>\n",
       "      <th>0</th>\n",
       "      <td>0.00000</td>\n",
       "      <td>0.000000</td>\n",
       "      <td>0.0000</td>\n",
       "      <td>0.00000</td>\n",
       "      <td>0.0000</td>\n",
       "      <td>0.0000</td>\n",
       "      <td>0.00000</td>\n",
       "      <td>0.0000</td>\n",
       "      <td>0.0000</td>\n",
       "      <td>0.0000</td>\n",
       "      <td>...</td>\n",
       "      <td>0.0000</td>\n",
       "      <td>0.0000</td>\n",
       "      <td>0.0000</td>\n",
       "      <td>0.0000</td>\n",
       "      <td>0.0000</td>\n",
       "      <td>0.0000</td>\n",
       "      <td>0.0000</td>\n",
       "      <td>0.00000</td>\n",
       "      <td>0.00000</td>\n",
       "      <td>0.0000</td>\n",
       "    </tr>\n",
       "    <tr>\n",
       "      <th>1</th>\n",
       "      <td>4.68750</td>\n",
       "      <td>4.230400</td>\n",
       "      <td>12.8050</td>\n",
       "      <td>0.66288</td>\n",
       "      <td>1.0375</td>\n",
       "      <td>9.3794</td>\n",
       "      <td>1.94240</td>\n",
       "      <td>10.9600</td>\n",
       "      <td>10.5870</td>\n",
       "      <td>8.5702</td>\n",
       "      <td>...</td>\n",
       "      <td>5.9019</td>\n",
       "      <td>8.5661</td>\n",
       "      <td>6.0424</td>\n",
       "      <td>9.4003</td>\n",
       "      <td>10.9290</td>\n",
       "      <td>8.3888</td>\n",
       "      <td>12.7030</td>\n",
       "      <td>0.39474</td>\n",
       "      <td>1.84720</td>\n",
       "      <td>5.2799</td>\n",
       "    </tr>\n",
       "    <tr>\n",
       "      <th>2</th>\n",
       "      <td>13.90200</td>\n",
       "      <td>13.759000</td>\n",
       "      <td>13.3930</td>\n",
       "      <td>10.27400</td>\n",
       "      <td>17.5240</td>\n",
       "      <td>15.6490</td>\n",
       "      <td>7.46160</td>\n",
       "      <td>19.7190</td>\n",
       "      <td>16.6210</td>\n",
       "      <td>15.4820</td>\n",
       "      <td>...</td>\n",
       "      <td>13.6440</td>\n",
       "      <td>17.1500</td>\n",
       "      <td>8.4339</td>\n",
       "      <td>16.6970</td>\n",
       "      <td>12.1670</td>\n",
       "      <td>14.1980</td>\n",
       "      <td>17.2460</td>\n",
       "      <td>6.75450</td>\n",
       "      <td>8.40360</td>\n",
       "      <td>11.7000</td>\n",
       "    </tr>\n",
       "    <tr>\n",
       "      <th>3</th>\n",
       "      <td>0.35454</td>\n",
       "      <td>0.119540</td>\n",
       "      <td>9.6592</td>\n",
       "      <td>-2.71550</td>\n",
       "      <td>-5.5367</td>\n",
       "      <td>5.1335</td>\n",
       "      <td>-0.23246</td>\n",
       "      <td>4.9398</td>\n",
       "      <td>5.8953</td>\n",
       "      <td>4.4323</td>\n",
       "      <td>...</td>\n",
       "      <td>1.9912</td>\n",
       "      <td>3.0983</td>\n",
       "      <td>4.2619</td>\n",
       "      <td>5.1583</td>\n",
       "      <td>8.4051</td>\n",
       "      <td>4.3655</td>\n",
       "      <td>8.5165</td>\n",
       "      <td>-2.18410</td>\n",
       "      <td>-0.51273</td>\n",
       "      <td>1.8880</td>\n",
       "    </tr>\n",
       "    <tr>\n",
       "      <th>4</th>\n",
       "      <td>0.48719</td>\n",
       "      <td>-0.047588</td>\n",
       "      <td>8.6480</td>\n",
       "      <td>-2.49870</td>\n",
       "      <td>-3.9108</td>\n",
       "      <td>4.5292</td>\n",
       "      <td>-0.42730</td>\n",
       "      <td>5.1726</td>\n",
       "      <td>5.5714</td>\n",
       "      <td>3.6974</td>\n",
       "      <td>...</td>\n",
       "      <td>1.6627</td>\n",
       "      <td>3.6071</td>\n",
       "      <td>3.2016</td>\n",
       "      <td>4.0317</td>\n",
       "      <td>6.9284</td>\n",
       "      <td>4.0762</td>\n",
       "      <td>7.2162</td>\n",
       "      <td>-1.48800</td>\n",
       "      <td>-0.89017</td>\n",
       "      <td>1.6779</td>\n",
       "    </tr>\n",
       "  </tbody>\n",
       "</table>\n",
       "<p>5 rows × 288 columns</p>\n",
       "</div>"
      ],
      "text/plain": [
       "        0          1        2         3        4        5        6        7    \\\n",
       "0   0.00000   0.000000   0.0000   0.00000   0.0000   0.0000  0.00000   0.0000   \n",
       "1   4.68750   4.230400  12.8050   0.66288   1.0375   9.3794  1.94240  10.9600   \n",
       "2  13.90200  13.759000  13.3930  10.27400  17.5240  15.6490  7.46160  19.7190   \n",
       "3   0.35454   0.119540   9.6592  -2.71550  -5.5367   5.1335 -0.23246   4.9398   \n",
       "4   0.48719  -0.047588   8.6480  -2.49870  -3.9108   4.5292 -0.42730   5.1726   \n",
       "\n",
       "       8        9     ...         278      279     280      281      282  \\\n",
       "0   0.0000   0.0000   ...      0.0000   0.0000  0.0000   0.0000   0.0000   \n",
       "1  10.5870   8.5702   ...      5.9019   8.5661  6.0424   9.4003  10.9290   \n",
       "2  16.6210  15.4820   ...     13.6440  17.1500  8.4339  16.6970  12.1670   \n",
       "3   5.8953   4.4323   ...      1.9912   3.0983  4.2619   5.1583   8.4051   \n",
       "4   5.5714   3.6974   ...      1.6627   3.6071  3.2016   4.0317   6.9284   \n",
       "\n",
       "       283      284      285      286      287  \n",
       "0   0.0000   0.0000  0.00000  0.00000   0.0000  \n",
       "1   8.3888  12.7030  0.39474  1.84720   5.2799  \n",
       "2  14.1980  17.2460  6.75450  8.40360  11.7000  \n",
       "3   4.3655   8.5165 -2.18410 -0.51273   1.8880  \n",
       "4   4.0762   7.2162 -1.48800 -0.89017   1.6779  \n",
       "\n",
       "[5 rows x 288 columns]"
      ]
     },
     "execution_count": 5,
     "metadata": {},
     "output_type": "execute_result"
    }
   ],
   "source": [
    "inputData = pd.read_csv('../../Data/MatlabData/24h_MCC.csv',header=None).transpose()\n",
    "print(inputData.shape)\n",
    "inputData.head()"
   ]
  },
  {
   "cell_type": "code",
   "execution_count": 6,
   "metadata": {},
   "outputs": [
    {
     "name": "stdout",
     "output_type": "stream",
     "text": [
      "(4, 100)\n"
     ]
    }
   ],
   "source": [
    "## Trim data down to a usable size\n",
    "endBus = 5\n",
    "endTimeIdx = 100\n",
    "L = inputData.iloc[1:endBus,:endTimeIdx].values\n",
    "(n,t) = L.shape       # t: time steps,  n: number of nodes\n",
    "print(L.shape)\n",
    "\n",
    "## Setting up for solving the problem\n",
    "\n",
    "O = np.ones([n,n]) - np.eye(n)  # Off-diagonal matrix, dim n*n   (O := 1 1' - I)\n",
    "\n",
    "# Tuning parameters: Weights in minimization\n",
    "k1 = 1e-3  # This set is Kekatos' experimentally determined coefficients\n",
    "k2 = 5e-4\n",
    "k3 = 1e-2\n",
    "k4 = 1e-1"
   ]
  },
  {
   "cell_type": "markdown",
   "metadata": {},
   "source": [
    "# DCOPF Background\n",
    "\n",
    "Key components: \n",
    "- $N+1$ buses\n",
    "- $L$ transmission lines, numbered $1, \\dots , L$ and each line is designated with (from,to) nodes as $(m,n)$.\n",
    "\n",
    "Vectors:\n",
    "- Reactance for each line $x_l$\n",
    "- Active Power injections from generators at each bus $p_n$, collected into vector $\\tilde{\\mathbf{p}}$\n",
    "- Marginal generation costs $\\mathbf{c}$ for the generator at each node\n",
    "- Voltage phase at each bus, $\\theta_n$ and corresponding vector $\\tilde{\\theta}$\n",
    "- Line flows $f_l = (\\theta_m - \\theta_n)/ x_l$, collected into vector $\\mathbf{f}$\n",
    "\n",
    "\n",
    "Matrices:\n",
    "- **Incidence matrix** of branches and buses  $\\tilde{\\mathbf{A}} \\in \\mathcal{R}^{L \\times (N+1)}$. For each line $l$, there is a single entry with value 1 and another entry with value -1, specifically the entry for the from-column is 1, and the entry for the to-column is -1. Rows sum to zero.\n",
    "- **Succeptance matrix** created by diagonalizing the reactances, $\\mathbf{D} = \\text{diag}\\left( \\{x_l^-1\\}_{l=1}^L \\right)$\n",
    "- **Weighted Laplacian** of the network, $\\tilde{\\mathbf{B}} := \\tilde{\\mathbf{A}}^T \\mathbf{D} \\tilde{\\mathbf{A}}$. \n",
    "   - The standard *Laplacian* matrix indicates the connectivity of network. The diagonals indicate the number of edges connected to a node, and the off-diagonal entries are negative 1 wherever the nodes are connected. Columns sum to 0.\n",
    "   - The *weighted Laplacian* i indicates\n",
    "   - The standard weighted laplacian is positive semidefinite, whereas the reduced grid laplacian (described below) is strictly positive definite.\n",
    "   \n",
    "Basic OPF: Given line limits $\\underline{\\mathbf{f}}, \\bar{\\mathbf{f}}$ and generator/consumer limits $\\underline{\\mathbf{p}}, \\bar{\\mathbf{p}}$ solve \n",
    "\n",
    "$$\n",
    "\\begin{align}\n",
    "\\left( \\tilde{\\mathbf{p}}^*, \\tilde{\\theta}^* \\right) \\; = \\; \\text{arg min}\\quad & \\mathbf{c}^T \\tilde{\\mathbf{p}} \\\\\n",
    "\\text{subject to} \\quad & \\underline{\\mathbf{p}} \\leq \\tilde{\\mathbf{p}} \\leq \\bar{\\mathbf{p}}\\\\\n",
    "& \\tilde{\\mathbf{p}} = \\tilde{\\mathbf{B}} \\, \\tilde{\\boldsymbol{\\theta}}\\\\\n",
    "& \\underline{\\mathbf{f}}  \\leq  \\mathbf{D}\\, \\tilde{\\mathbf{A}}\\, \\tilde{\\boldsymbol{\\theta}} \\leq \\bar{\\mathbf{f}}\n",
    "\\end{align}\n",
    "$$\n",
    "\n",
    "This can be simplified by fixing the voltage angle at bus 1 and eliminating the first column of A, i.e. $\\tilde{\\mathbf{A}} = [a_1\\; \\mathbf{A}]$. Similarly, we define a subset of the power injections $\\tilde{\\mathbf{p}} = [p_1 \\mathbf{p}], where we are still interested in the injections at bus 1.  Then the reduced grid Laplacian $\\mathbf{B}=\\mathbf{A}\\mathbf{D}\\mathbf{A}^T$ is strictly positive definite.\n",
    "\n",
    "The problem can now be written as:\n",
    "$$\n",
    "\\begin{align}\n",
    "\\tilde{\\mathbf{p}}^* \\;=\\; \\text{arg min}\\quad & \\mathbf{c}^T \\tilde{\\mathbf{p}} \\\\\n",
    "\\text{subject to} \\quad & \\underline{\\mathbf{p}} \\leq \\tilde{\\mathbf{p}} \\leq \\bar{\\mathbf{p}}\\\\\n",
    "& \\tilde{\\mathbf{p}}^T \\mathbf{1} = 0 & \\nu \\\\\n",
    "& \\underline{\\mathbf{f}}  \\leq  \\mathbf{D}\\, \\mathbf{A} \\, \\mathbf{B}^{-1} \\mathbf{p} \\leq \\bar{\\mathbf{f}} & \\underline{\\mu},\\bar{\\mu}\n",
    "\\end{align}\n",
    "$$\n",
    "\n",
    "We are interested in the vector of LMPs, $\\lambda$. The marginal cost of energy is $\\nu$ (Kekatos uses $\\lambda_0$), and we'll indicate the net shadow cost of congestion by $\\mu = \\underline{\\mu} - \\bar{\\mu}$.  Then the LMP at each node is calculated as:\n",
    "\n",
    "$$\n",
    "\\begin{align}\n",
    "\\text{LMP} & = &\\text{MCE} &\\quad+ &\\text{MCC} &\\quad+ &\\text{MCL} \\\\\n",
    "\\left[\\begin{array}{c}\\lambda_1 \\\\ \\mathbf{\\lambda}\\end{array}\\right] &= &\\nu \\mathbf{1} &\\quad+ &\\left[\\begin{array}{c}0 \\\\ \\mathbf{B}^{-1}\\, \\mathbf{A} \\, \\mathbf{D} \\mu \\end{array}\\right] &\\quad+ &w\n",
    "\\end{align}\n",
    "$$"
   ]
  },
  {
   "cell_type": "code",
   "execution_count": null,
   "metadata": {
    "collapsed": true
   },
   "outputs": [],
   "source": []
  },
  {
   "cell_type": "markdown",
   "metadata": {},
   "source": [
    "# ADMM Formulation\n",
    "Creates copies of the variables B and S for each term in the objective function, and then seeks to bring them into agreement by using an equality constraint.\n",
    "\n",
    "$$\n",
    "\\begin{align}\n",
    "\\underset{S_1,S_2,B_1,B_2,B_3}{\\text{minimize}} \\quad & \\frac{1}{2}||\\mathbf{B}_1 \\mathbf{L} - \\mathbf{S}_2 ||_F^2 + \\kappa_1 ||O \\odot \\mathbf{B}_2 ||_1 + \\kappa_2 ||\\mathbf{S}_1 ||_1 + \\kappa_3 ||\\mathbf{S}_2||_* - \\kappa_4 \\log |\\mathbf{B}_3| \\\\\n",
    "\\text{subject to} \\quad & O \\odot \\mathbf{B}_2 \\leq 0 \\\\\n",
    "& \\mathbf{B}_3 \\succ 0  \\\\\n",
    "& \\mathbf{B}_1 = \\mathbf{B}_2 \\; : \\mathbf{Y}_{12}\\\\\n",
    "& \\mathbf{B}_1 = \\mathbf{B}_3 \\; : \\mathbf{Y}_{13}\\\\\n",
    "& \\mathbf{S}_1 = \\mathbf{S}_2 \\; : \\mathbf{Y}\n",
    "\\end{align}\n",
    "$$\n",
    "\n",
    "## First step: $\\mathbf{B}_1, \\mathbf{S}_1$\n",
    "update $\\mathbf{B}_1, \\mathbf{S}_1$\n",
    "\n",
    "### Update $\\mathbf{B}_1$\n",
    "\n",
    "$$\n",
    "\\mathbf{B_1}^{i+1} := (\\mathbf{S}_2^i \\mathbf{L}^T + \\rho\\mathbf{B}_2^i + \\rho\\mathbf{B}_3^i - \\mathbf{Y}_{12}^i - \\mathbf{Y}_{13}^i)(\\mathbf{L}\\mathbf{L}^T + 2 \\rho \\mathbf{I})^{-1}\\\\\n",
    "$$\n",
    "\n",
    "### Update $\\mathbf{S}_1$\n",
    "$$\n",
    "\\mathbf{S}_1^{i+1} := \\mathcal{S}_{\\kappa_2 / \\rho} [\\mathbf{S}_2^i - \\frac{1}{\\rho}\\mathbf{Y}^i]\n",
    "$$\n",
    "\n",
    "where \n",
    "\n",
    "$$\n",
    "\\mathcal{S}_{\\alpha}[x] := x \\cdot \\max\\left\\{1-\\frac{\\alpha}{|x|},0\\right\\}\n",
    "$$\n",
    "is applied to each of the elements in $x$ ...so in our case, this means that we need to take each element of the matrix $\\mathbf{S}_2^i - \\frac{1}{\\rho}\\mathbf{Y}^i$\n",
    "\n",
    "## Second step: $\\mathbf{B}_2, \\mathbf{B}_3, \\mathbf{S}_2$\n",
    "update $\\mathbf{B}_2, \\mathbf{B}_3, \\mathbf{S}_2$\n",
    "\n",
    "### Update $\\mathbf{B}_2$\n",
    "\n",
    "$\\mathbf{B}_2$ is updated element-wise with a soft threshold with a diagonal:\n",
    "\n",
    "$$\n",
    "\\left[ \\mathbf{B}_2^{i+1} \\right]_{nm} := \n",
    "\\begin{cases}\n",
    "\\left[ \\mathbf{B}_1^{i+1} + \\frac{1}{\\rho}\\mathbf{Y}_{12}^i \\right]_{nm}, && n=m \\\\\n",
    "\\text{min}\\left\\{ \\left[ \\mathbf{B}_1^{i+1} + \\frac{1}{\\rho}\\mathbf{Y}_{12}^i \\right]_{nm} + \\frac{\\kappa_1}{\\rho},0 \\right\\},  && n \\neq m\n",
    "\\end{cases}\n",
    "$$\n",
    "\n",
    "### Update $\\mathbf{B}_3$\n",
    "\n",
    "Now $\\mathbf{B}_3$ is updated using\n",
    "\n",
    "$$\n",
    "\\mathbf{B}_3^{i+1} := \\mathcal{T}_{\\kappa_4 / \\rho} \\left[ \\mathbf{B}_1^{i+1} + \\frac{1}{\\rho}\\mathbf{Y}_{13}^i \\right]\n",
    "$$\n",
    "\n",
    "where $\\mathcal{T}_{\\alpha}$ is a matrix related to the eigenvalue decomposition, where for some matrix $\\mathbf{X}$ we can find a unitary matrix $\\mathbf{U}$ and eigenvalues $\\{s_k\\}$ such that the eigenvalue decomposition is\n",
    "\n",
    "$$\n",
    "\\frac{1}{2}(\\mathbf{X}+\\mathbf{X}^T) = \\mathbf{U} \\, \\text{diag}(\\{s_k\\})\\mathbf{U}^T\n",
    "$$\n",
    "\n",
    "Using these eigenvalues and unitary matrices composed from the eigenvectors, we can then define $\\mathcal{T}_\\alpha[\\mathbf{X}]$ as \n",
    "\n",
    "$$\n",
    "\\mathcal{T}_\\alpha[\\mathbf{X}] := \\mathbf{U} \\, \\text{diag}\\left( \\left\\{ \\frac{1}{2} \\left( s_k + \\sqrt{s_k^2 + 4\\alpha} \\right) \\right\\} \\right) \\mathbf{U}^T\n",
    "$$\n",
    "\n",
    "### Update $\\mathbf{S}_2$\n",
    "\n",
    "$$\n",
    "\\mathbf{S}_2^{i+1} := \\frac{1}{\\rho + 1} \\cdot \\mathcal{P}_{\\kappa_3} \\left[ \\mathbf{B}_1^{i+1} \\mathbf{L} + \\rho \\mathbf{S}_1^{i+1} + \\mathbf{Y}^i \\right]\n",
    "$$\n",
    "\n",
    "Where the operator $\\mathcal{P}_{\\alpha}[X]$ is related to both singular value decomposition and the soft-threshholding operator:\n",
    "\n",
    "$$\n",
    "\\mathcal{P}_{\\alpha}[X] := \\mathbf{U} \\, \\text{diag}\\left( \\text{max} \\{\\sigma_i - \\alpha ,0 \\} \\right) \\mathbf{V}^T\n",
    "$$\n",
    "\n",
    "\n",
    "A *unitary* matrix has unit eigenvalues, and its transpose (specifically conjugate trnaspose or Hermitian transpose) is its invers.  $U \\cdot U^T = I$\n",
    "\n",
    "Singular Value Decomposition: For an $m \\times n$ matrix, $\\mathbf{X} := \\mathbf{U} \\, \\text{diag}(\\{ \\sigma_i \\} ) \\mathbf{V}^T $  where $\\mathbf{U}$ is a unitary square  $m \\times m$ matrix, $\\{ \\sigma_i \\}$ are the $m$ singular values (which are placed on the diagonal of an $m \\times n$ matrix), and $\\mathbf{V}$ is another unitary matrix of $n \\times n$.  The columns of $U$ are the left-singular vectors, and the columns of $V$ are the right-singular vectors. \n",
    "\n",
    "The left-singular vectors are a set of orthonormal eigenvectors of $M \\cdot M^*$ and the right-singular vectors are orthonormal eigenvectors of $M^* \\cdot M$.  The non-zero singular values are the square roots of the non-zero eigenvalues of both $M^* \\cdot M$ and $M \\cdot M^*$.  \n",
    "\n",
    "Remember, $\\mathbf{S}$ is not a square matrix, so we cannot do eigenvalue decomposition but rather do singular value decomposition. \n",
    "\n",
    "## Lagrange Multiplier Update\n",
    "\n",
    "Simple gradient ascent\n",
    "\n",
    "$$\n",
    "\\begin{align}\n",
    "\\mathbf{Y}_{12}^{i+1} & := \\mathbf{Y}_{12}^{i} + \\rho(\\mathbf{B}_1^{i+1} - \\mathbf{B}_2^{i+1}) \\\\\n",
    "\\mathbf{Y}_{13}^{i+1} & := \\mathbf{Y}_{13}^{i} + \\rho(\\mathbf{B}_1^{i+1} - \\mathbf{B}_3^{i+1}) \\\\\n",
    "\\mathbf{Y}^{i+1} & := \\mathbf{Y}^{i} + \\rho(\\mathbf{S}_1^{i+1} - \\mathbf{S}_2^{i+1})\n",
    "\\end{align}\n",
    "$$"
   ]
  },
  {
   "cell_type": "code",
   "execution_count": 7,
   "metadata": {
    "collapsed": true
   },
   "outputs": [],
   "source": [
    "######### ADMM HELPER FUNCTIONS #############\n",
    "\n",
    "# First Step Update Functions, B1, S1\n",
    "def updateB1(S2, B2, B3, Y12, Y13, L, rho):\n",
    "    \n",
    "    # Get all the typecasting out of the way\n",
    "    S2, B2, B3, Y12, Y13, L = (np.matrix(x) for x in (S2, B2, B3, Y12, Y13, L))\n",
    "    n = L.shape[0]\n",
    "    \n",
    "    out = (S2 * L.T + rho*B2 + rho*B3 - Y12 -Y13) * np.linalg.inv(L*L.T + 2*rho*np.eye(n))\n",
    "    return out\n",
    "\n",
    "\n",
    "def S_alpha(x,alpha):\n",
    "    x = np.matrix(x)\n",
    "    # Soft threshold operator\n",
    "    alpha = float(alpha)\n",
    "    max_op = np.maximum(1-alpha/np.abs(x),0)\n",
    "    return np.multiply(x, max_op) #This guarantees elementwise multiplication\n",
    "\n",
    "def updateS1(S2,Y,k2,rho):\n",
    "    x     = S2 - 1./rho * Y\n",
    "    alpha = k2 / rho\n",
    "    return S_alpha(x,alpha)\n",
    "\n",
    "\n",
    "## Second Step Update Functions: B2, B3, S2\n",
    "def updateB2(B1_plus, Y12, k1, rho):\n",
    "    # Inputs can either be matrices or np.ndarrays ...rho is a scalar\n",
    "    n = Y12.shape[0]\n",
    "    x = B1_plus + 1./rho * Y12\n",
    "    x_out = np.minimum(x + k1/rho,0)           # This is the thresholding operator\n",
    "    np.putmask(x_out,np.eye(n,dtype='bool'),x) # Place the original values of x in the diagonals of x_out\n",
    "    return x_out\n",
    "    \n",
    "def T_alpha(s, U, alpha):\n",
    "    #Eigenvalue scaling operator used in the computation of B3\n",
    "    U = np.matrix(U) # Handle inputs\n",
    "\n",
    "    dvec = 1./2*( s + np.sqrt(s**2 + 4*alpha) )\n",
    "    d = np.matrix( np.diag(dvec) )\n",
    "    return U * d * U.T\n",
    "\n",
    "def updateB3(B1_plus, Y13, k4, rho):\n",
    "    X = B1_plus + 1./rho * Y13\n",
    "    X_temp = 1./2 *(X + X.T)\n",
    "    (s,u) = np.linalg.eig(X_temp)\n",
    "    return T_alpha( s , u , k4/rho )\n",
    "    \n",
    "\n",
    "def P_alpha(x, alpha):\n",
    "    # Soft thresholding of singular values of matrix, used in computation of S2\n",
    "    u,s,v = np.linalg.svd(x)\n",
    "    # Handle inputs\n",
    "    u = np.matrix(u)\n",
    "    v = np.matrix(v)\n",
    "    n = u.shape[0]\n",
    "    d = np.matrix( np.zeros( [n, v.shape[0]]) ) # Zero matrix. We will later assign the diagonal of this\n",
    "\n",
    "    # Compose the diagonal matrix\n",
    "    dvec = np.maximum(s-alpha,0) # Soft threshold\n",
    "    d[:n,:n] = np.diag(dvec)       # Create diagonals from soft-thresholded singular values\n",
    "    return u * d * v\n",
    "    \n",
    "def updateS2(B1_plus, L, S1_plus, Y, k3, rho):\n",
    "    B1_plus, L, S1_plus, Y = (np.matrix(x) for x in (B1_plus, L, S1_plus, Y))  #Typecast inputs\n",
    "    \n",
    "    x = B1_plus * L + rho * S1_plus + Y\n",
    "    return 1./(rho+1.) * P_alpha(x,k3)"
   ]
  },
  {
   "cell_type": "code",
   "execution_count": 42,
   "metadata": {},
   "outputs": [
    {
     "name": "stdout",
     "output_type": "stream",
     "text": [
      "Finished 51 iterations in 0.111989974976 seconds\n"
     ]
    },
    {
     "name": "stderr",
     "output_type": "stream",
     "text": [
      "/Users/emunsing/GoogleDrive/Papers/GridStructureEstimation/Coding/Python/env/lib/python2.7/site-packages/ipykernel_launcher.py:18: RuntimeWarning: divide by zero encountered in divide\n"
     ]
    }
   ],
   "source": [
    "##############   ADMM IMPLEMENTATION   ###############\n",
    "\n",
    "## Initialize B1,B2,B3, S1,S2, Y12,Y13,Y\n",
    "\n",
    "B1,B2,B3, Y12,Y13 = [np.matrix(np.zeros([n,n]))]*5\n",
    "S1,S2, Y = [np.matrix(np.zeros([n,t]))]*3\n",
    "\n",
    "rho = 1e3\n",
    "\n",
    "relTol = 1e-3\n",
    "constraintFlag = True\n",
    "i = 1\n",
    "\n",
    "startTime = time.time()\n",
    "## ADMM Iterations\n",
    "while constraintFlag:\n",
    "\n",
    "    ## First Step: Update B1, S1\n",
    "    B1_plus = updateB1(S2, B2, B3, Y12, Y13, L, rho)\n",
    "    S1_plus = updateS1(S2,Y,k2,rho)\n",
    "    \n",
    "    ## Second step: Update B2,B3,S2\n",
    "    B2_plus = updateB2(B1_plus, Y12, k1, rho)\n",
    "    B3_plus = updateB3(B1_plus, Y13, k4, rho)\n",
    "    S2_plus = updateS2(B1_plus, L , S1_plus, Y, k3, rho)\n",
    "    \n",
    "    ## Lagrange Multiplier Update\n",
    "    Y12_plus = Y12 + rho*(B1_plus - B2_plus)\n",
    "    Y13_plus = Y13 + rho*(B1_plus - B3_plus)\n",
    "    Y_plus   = Y   + rho*(S1_plus - S2_plus)\n",
    "\n",
    "    ## Increment everything\n",
    "    B1 = B1_plus\n",
    "    B2 = B2_plus\n",
    "    B3 = B3_plus\n",
    "    S1 = S1_plus\n",
    "    S2 = S2_plus\n",
    "    Y12 = Y12_plus\n",
    "    Y13 = Y13_plus\n",
    "    Y = Y_plus\n",
    "    \n",
    "\n",
    "    b12constraint = np.abs(B1-B2).sum() / max(1e-9, min(np.abs(B1).sum(),np.abs(B2).sum()) )\n",
    "    b13constraint = np.abs(B1-B3).sum() / max(1e-9, min(np.abs(B1).sum(),np.abs(B3).sum()) )\n",
    "    sConstraint = np.abs(S1-S2).sum() /   max(1e-9, min(np.abs(S1).sum(),np.abs(S2).sum()) )\n",
    "    if max(b12constraint, b13constraint, sConstraint) < relTol:\n",
    "        constraintFlag = False\n",
    "    i += 1\n",
    "    \n",
    "print(\"Finished %s iterations in %s seconds\"%(i,time.time()-startTime))\n",
    "\n",
    "B = np.average([B1,B2,B3],axis=0)"
   ]
  },
  {
   "cell_type": "markdown",
   "metadata": {},
   "source": [
    "# Centralized Solver in CvxPy"
   ]
  },
  {
   "cell_type": "code",
   "execution_count": 164,
   "metadata": {},
   "outputs": [
    {
     "name": "stdout",
     "output_type": "stream",
     "text": [
      "----------------------------------------------------------------------------\n",
      "\tSCS v1.2.6 - Splitting Conic Solver\n",
      "\t(c) Brendan O'Donoghue, Stanford University, 2012-2016\n",
      "----------------------------------------------------------------------------\n",
      "Lin-sys: sparse-indirect, nnz in A = 20810, CG tol ~ 1/iter^(2.00)\n",
      "eps = 1.00e-03, alpha = 1.50, max_iters = 7000, normalize = 1, scale = 1.00\n",
      "Variables n = 11703, constraints m = 12598\n",
      "Cones:\tprimal zero / dual free vars: 5820\n",
      "\tlinear vars: 848\n",
      "\tsoc vars: 402, soc blks: 1\n",
      "\tsd vars: 5516, sd blks: 4\n",
      "\texp vars: 12, dual exp vars: 0\n",
      "Setup time: 3.02e-02s\n",
      "----------------------------------------------------------------------------\n",
      " Iter | pri res | dua res | rel gap | pri obj | dua obj | kap/tau | time (s)\n",
      "----------------------------------------------------------------------------\n",
      "     0|      inf       inf       nan      -inf       inf       inf  7.18e-02 \n",
      "   100| 3.01e-01  7.17e-03  6.21e-04  8.91e-01  8.93e-01  1.37e-16  2.58e+00 \n",
      "   200| 2.09e-01  6.41e-03  3.37e-04  9.25e-01  9.26e-01  1.46e-16  4.22e+00 \n",
      "   300| 1.58e-01  4.06e-03  2.02e-04  8.95e-01  8.96e-01  1.52e-16  5.79e+00 \n",
      "   400| 1.17e-01  2.20e-03  1.56e-04  8.63e-01  8.64e-01  1.57e-16  8.13e+00 \n",
      "   500| 9.96e-02  1.22e-03  1.33e-04  8.43e-01  8.43e-01  1.61e-16  9.95e+00 \n",
      "   600| 8.27e-02  1.19e-03  1.23e-04  8.31e-01  8.32e-01  1.64e-16  1.13e+01 \n",
      "   700| 7.13e-02  1.40e-03  1.17e-04  8.29e-01  8.29e-01  1.66e-16  1.29e+01 \n",
      "   800| 6.83e-02  1.45e-03  1.06e-04  8.32e-01  8.32e-01  1.69e-16  1.46e+01 \n",
      "   900| 6.09e-02  1.45e-03  8.88e-05  8.37e-01  8.37e-01  1.71e-16  1.63e+01 \n",
      "  1000| 4.95e-02  1.44e-03  6.91e-05  8.42e-01  8.42e-01  1.73e-16  1.80e+01 \n",
      "  1100| 4.34e-02  1.34e-03  4.83e-05  8.46e-01  8.46e-01  1.74e-16  2.07e+01 \n",
      "  1200| 3.65e-02  1.20e-03  2.93e-05  8.48e-01  8.48e-01  1.75e-16  2.25e+01 \n",
      "  1300| 3.07e-02  1.04e-03  1.18e-05  8.49e-01  8.49e-01  1.75e-16  2.46e+01 \n",
      "  1400| 2.66e-02  8.53e-04  2.80e-06  8.49e-01  8.49e-01  1.76e-16  2.64e+01 \n",
      "  1500| 2.12e-02  6.76e-04  1.42e-05  8.47e-01  8.47e-01  1.75e-16  3.08e+01 \n",
      "  1600| 2.13e-02  4.80e-04  2.26e-05  8.46e-01  8.46e-01  1.75e-16  3.43e+01 \n",
      "  1700| 1.86e-02  3.55e-04  2.76e-05  8.43e-01  8.43e-01  1.74e-16  3.68e+01 \n",
      "  1800| 1.82e-02  2.69e-04  2.93e-05  8.40e-01  8.40e-01  1.74e-16  3.94e+01 \n",
      "  1900| 1.59e-02  2.79e-04  2.86e-05  8.37e-01  8.37e-01  1.73e-16  4.10e+01 \n",
      "  2000| 1.49e-02  2.90e-04  2.57e-05  8.35e-01  8.35e-01  1.73e-16  4.26e+01 \n",
      "  2100| 1.39e-02  3.12e-04  2.15e-05  8.33e-01  8.33e-01  1.72e-16  4.45e+01 \n",
      "  2200| 1.19e-02  3.32e-04  1.66e-05  8.31e-01  8.31e-01  1.72e-16  4.62e+01 \n",
      "  2300| 1.01e-02  3.31e-04  1.15e-05  8.31e-01  8.31e-01  1.71e-16  4.83e+01 \n",
      "  2400| 8.63e-03  3.18e-04  6.66e-06  8.30e-01  8.30e-01  1.71e-16  5.04e+01 \n",
      "  2500| 9.52e-03  2.78e-04  2.07e-06  8.30e-01  8.30e-01  1.71e-16  5.28e+01 \n",
      "  2600| 6.35e-03  2.51e-04  1.94e-06  8.30e-01  8.30e-01  1.71e-16  5.54e+01 \n",
      "  2700| 7.19e-03  2.00e-04  5.10e-06  8.30e-01  8.30e-01  1.71e-16  5.92e+01 \n",
      "  2800| 5.88e-03  1.64e-04  7.43e-06  8.30e-01  8.31e-01  1.71e-16  6.19e+01 \n",
      "  2900| 6.03e-03  1.21e-04  9.08e-06  8.31e-01  8.31e-01  1.72e-16  6.53e+01 \n",
      "  3000| 5.39e-03  8.96e-05  1.00e-05  8.32e-01  8.32e-01  1.72e-16  6.84e+01 \n",
      "  3100| 5.44e-03  5.85e-05  1.04e-05  8.32e-01  8.32e-01  1.72e-16  7.03e+01 \n",
      "  3200| 4.99e-03  4.84e-05  1.03e-05  8.33e-01  8.33e-01  1.72e-16  7.49e+01 \n",
      "  3300| 4.67e-03  5.11e-05  9.70e-06  8.33e-01  8.33e-01  1.72e-16  7.74e+01 \n",
      "  3400| 4.14e-03  6.26e-05  8.76e-06  8.34e-01  8.34e-01  1.73e-16  8.16e+01 \n",
      "  3500| 3.56e-03  7.29e-05  7.58e-06  8.34e-01  8.34e-01  1.73e-16  8.82e+01 \n",
      "  3600| 2.90e-03  7.88e-05  6.24e-06  8.35e-01  8.35e-01  1.73e-16  9.39e+01 \n",
      "  3700| 2.60e-03  7.88e-05  4.83e-06  8.35e-01  8.35e-01  1.73e-16  1.01e+02 \n",
      "  3800| 2.07e-03  7.67e-05  3.43e-06  8.35e-01  8.35e-01  1.73e-16  1.08e+02 \n",
      "  3900| 1.20e-03  7.22e-05  2.19e-06  8.35e-01  8.35e-01  1.73e-16  1.10e+02 \n",
      "  4000| 2.22e-03  5.67e-05  1.15e-06  8.35e-01  8.35e-01  1.73e-16  1.14e+02 \n",
      "  4100| 2.28e-03  4.39e-05  3.15e-07  8.35e-01  8.35e-01  1.73e-16  1.19e+02 \n",
      "  4200| 2.00e-03  3.46e-05  2.87e-07  8.35e-01  8.35e-01  1.73e-16  1.23e+02 \n",
      "  4300| 1.10e-03  3.07e-05  7.00e-07  8.35e-01  8.35e-01  1.73e-16  1.26e+02 \n",
      "  4400| 1.61e-03  1.67e-05  9.03e-07  8.35e-01  8.35e-01  1.73e-16  1.30e+02 \n",
      "  4480| 8.72e-04  2.04e-05  9.78e-07  8.34e-01  8.34e-01  1.73e-16  1.35e+02 \n",
      "----------------------------------------------------------------------------\n",
      "Status: Solved\n",
      "Timing: Solve time: 1.35e+02s\n",
      "\tLin-sys: avg # CG iterations: 14.23, avg solve time: 1.19e-02s\n",
      "\tCones: avg projection time: 1.66e-02s\n",
      "----------------------------------------------------------------------------\n",
      "Error metrics:\n",
      "dist(s, K) = 2.3651e-09, dist(y, K*) = 2.4248e-09, s'y/|s||y| = 4.0792e-12\n",
      "|Ax + s - b|_2 / (1 + |b|_2) = 8.7169e-04\n",
      "|A'y + c|_2 / (1 + |c|_2) = 2.0436e-05\n",
      "|c'x + b'y| / (1 + |c'x| + |b'y|) = 9.7788e-07\n",
      "----------------------------------------------------------------------------\n",
      "c'x = 0.8344, -b'y = 0.8344\n",
      "============================================================================\n",
      "Solved!\n"
     ]
    }
   ],
   "source": [
    "######### CENTRALIZED ALGORITHM IN CVXPY ###############\n",
    "\n",
    "B = Semidef(n)\n",
    "S = Variable(n,t)\n",
    "obj = Minimize( 1/2. * sum_squares(B * L - S) +  # Least-squares fitting to data in L\n",
    "               k1*norm(mul_elemwise(O, B), 1) +             # Make B sparse off-diagonal \n",
    "               k2*norm(S,1) +                  # Make S sparse\n",
    "               k3*norm(S,'nuc') -              # Encourage a low-rank solution of S\n",
    "               k4*log_det(B) )                 # Ensure B positive definite and nonzero\n",
    "\n",
    "constraints = [mul_elemwise(O, B) <= 0]\n",
    "\n",
    "prob = Problem(obj,constraints)\n",
    "\n",
    "result = prob.solve(verbose=True, max_iters = 7000)\n",
    "print(\"Solved!\")"
   ]
  },
  {
   "cell_type": "markdown",
   "metadata": {},
   "source": [
    "# Plotting Results"
   ]
  },
  {
   "cell_type": "code",
   "execution_count": 180,
   "metadata": {},
   "outputs": [
    {
     "name": "stdout",
     "output_type": "stream",
     "text": [
      "Inferred B matrix:\n",
      "[[ 0.02 -0.01 -0.   -0.01]\n",
      " [-0.01  0.   -0.   -0.  ]\n",
      " [-0.   -0.    0.04 -0.03]\n",
      " [-0.01 -0.   -0.03  0.05]]\n"
     ]
    },
    {
     "data": {
      "text/plain": [
       "<matplotlib.text.Text at 0x10ce76110>"
      ]
     },
     "execution_count": 180,
     "metadata": {},
     "output_type": "execute_result"
    },
    {
     "data": {
      "image/png": "[encoded data removed]",
      "text/plain": [
       "<matplotlib.figure.Figure at 0x10ccd3750>"
      ]
     },
     "metadata": {},
     "output_type": "display_data"
    }
   ],
   "source": [
    "## Plot results and compare with actual\n",
    "\n",
    "if (type(B) != np.ndarray):  # Take care of CVXpy version\n",
    "    B = B.value\n",
    "\n",
    "B_true = np.genfromtxt('../../Data/MatlabData/B_true_13bus.csv', delimiter=',')\n",
    "\n",
    "print(\"Inferred B matrix:\")\n",
    "print(np.round(B,2))\n",
    "\n",
    "plt.figure(figsize=(10,4))\n",
    "plt.subplot(1,2,1)\n",
    "plt.imshow(B)\n",
    "plt.colorbar()\n",
    "plt.title('Inferred network')\n",
    "\n",
    "plt.subplot(1,2,2)\n",
    "plt.imshow(B_true[0:endBus-1,0:endBus-1])\n",
    "plt.colorbar()\n",
    "plt.title('Underlying network')"
   ]
  },
  {
   "cell_type": "markdown",
   "metadata": {},
   "source": [
    "## Notes on cvxpy:\n",
    "\n",
    "**Expressions**: For any expression, can get size with (expr).size and value with (expr).value\n",
    "\n",
    "## Notes on Numpy:\n",
    "1-d numpy arrays have ambiguous dimensions: can be used as either row vector or column vector. \n",
    "- multiplication of arrays by default is elementwise.  Need to use np.dot() to get the true dot product.\n",
    "- Np.dot will reorient vectors to get what it thinks is the desired result. "
   ]
  },
  {
   "cell_type": "markdown",
   "metadata": {},
   "source": [
    "### CVXPY and CVX use different p-norms for matrices!\n",
    "CVX uses the induced matrix norm, while CvxPy treats the matrix as a vector, and uses the vector norm!\n",
    "\n",
    "This means that the 1-norm in CVX is the maximum absolute column sum... while the 1-norm in CvxPy is the sum of the absolute values of the entries!\n",
    "\n",
    "This is a ***huge*** difference! Need to look at how the paper intends to implement this.\n",
    "\n",
    "**Kekatos uses the vector-norm, not the induced matrix norm!**\n",
    "See page 2, last paragraph before section II.\n"
   ]
  },
  {
   "cell_type": "code",
   "execution_count": 211,
   "metadata": {
    "collapsed": true
   },
   "outputs": [],
   "source": [
    "## Debugging Matlab solvers\n",
    "\n",
    "B_mat = np.genfromtxt('../Matlab/B_n4t25.csv', delimiter=',')\n",
    "S_mat = np.genfromtxt('../Matlab/S_n4t25.csv', delimiter=',')\n",
    "\n",
    "B_mat = np.matrix(B_mat)\n",
    "S_mat = np.matrix(S_mat)\n",
    "\n",
    "# obj = Minimize( 1/2. * sum_squares(B * L - S) +  # Least-squares fitting to data in L\n",
    "#               k1*norm(mul_elemwise(O, B), 1) +             # Make B sparse off-diagonal \n",
    "#               k2*norm(S,1) +                  # Make S sparse\n",
    "#               k3*norm(S,'nuc') -              # Encourage a low-rank solution of S\n",
    "#               k4*log_det(B) )                 # Ensure B positive definite and nonzero\n"
   ]
  },
  {
   "cell_type": "markdown",
   "metadata": {},
   "source": [
    "# Drawing Graphs \n",
    "Options: Graphviz software, NetworkX python package\n",
    "\n",
    "Relevant matrices: for a graph with *n* nodes and *l* lines, \n",
    "- Admittance matrix: *l x n* matrix where for each row/line, columns that are connected are 1 (rows sum to 2, or 0 if directed)\n",
    "- Degree matrix: Diagonal *n x n* matrix with the degree of each entry on the diagonal\n",
    "- Adjacency matrix: *n x n* off-diagonal matrix where entries are 1 on the off-diagonal where nodes are connected. 0 entries on the diagonal. Can be formed by dotting the admittance matrix with itself, and zeroing the diagonal.\n",
    "- Laplacian: Formed as (degree matrix - adjacency matrix) and has node degree on diagonal, and -1 on off-diagonals where there is a connection.\n",
    "- weighted Laplacian: *n x n* matrix \n",
    "- reduced weighted Laplacian: what we have\n",
    "\n",
    "\n",
    "The **Weighted Laplacian** entries are:\n",
    "- Diagonal entries: sums of all the weights of lines connected to that node, i.e np.fill_diagonal(B,0); B.sum(axis=0)\n",
    "- Note: For nodes which are connected to the reference bus, the difference between the diagonal entry and the column sum is the weight of the connection to the reference bus!\n",
    "- Off-diagonal entries: negative weight of the line between the two nodes\n",
    "\n",
    "Thus, the total number of lines is (half) the number of off-diagonal entries, plus connections with the reference bus.\n",
    "\n",
    "We can programmatically recover the adjacency matrix, including the reference bus connections!"
   ]
  },
  {
   "cell_type": "code",
   "execution_count": 3,
   "metadata": {
    "collapsed": true
   },
   "outputs": [],
   "source": [
    "import networkx as nx"
   ]
  },
  {
   "cell_type": "code",
   "execution_count": null,
   "metadata": {
    "collapsed": true
   },
   "outputs": [],
   "source": []
  },
  {
   "cell_type": "code",
   "execution_count": 42,
   "metadata": {},
   "outputs": [
    {
     "data": {
      "text/plain": [
       "array([[ 33.374 ,   0.    ,   0.    ,   0.    ,   0.    ,   0.    ,\n",
       "          0.    ,   0.    ,   0.    ,   0.    ,   0.    ,   0.    ,   0.    ],\n",
       "       [ -5.0513,  10.898 ,   0.    ,   0.    ,   0.    ,   0.    ,\n",
       "          0.    ,   0.    ,   0.    ,   0.    ,   0.    ,   0.    ,   0.    ],\n",
       "       [ -5.6715,  -5.8469,  42.011 ,   0.    ,   0.    ,   0.    ,\n",
       "          0.    ,   0.    ,   0.    ,   0.    ,   0.    ,   0.    ,   0.    ],\n",
       "       [ -5.7511,   0.    , -23.747 ,  38.239 ,   0.    ,   0.    ,\n",
       "          0.    ,   0.    ,   0.    ,   0.    ,   0.    ,   0.    ,   0.    ],\n",
       "       [  0.    ,   0.    ,   0.    ,  -4.2574,  20.871 ,   0.    ,\n",
       "          0.    ,   0.    ,   0.    ,   0.    ,   0.    ,   0.    ,   0.    ],\n",
       "       [  0.    ,   0.    ,  -4.8895,   0.    ,   0.    ,  19.657 ,\n",
       "          0.    ,   0.    ,   0.    ,   0.    ,   0.    ,   0.    ,   0.    ],\n",
       "       [  0.    ,   0.    ,   0.    ,   0.    ,   0.    ,  -5.677 ,\n",
       "          5.677 ,   0.    ,   0.    ,   0.    ,   0.    ,   0.    ,   0.    ],\n",
       "       [  0.    ,   0.    ,  -1.8555,   0.    ,   0.    ,  -9.0901,\n",
       "          0.    ,  26.478 ,   0.    ,   0.    ,   0.    ,   0.    ,   0.    ],\n",
       "       [  0.    ,   0.    ,   0.    ,   0.    ,   0.    ,   0.    ,\n",
       "          0.    , -11.834 ,  17.041 ,   0.    ,   0.    ,   0.    ,   0.    ],\n",
       "       [  0.    ,   0.    ,   0.    ,   0.    ,  -5.0277,   0.    ,\n",
       "          0.    ,   0.    ,  -5.2064,  10.234 ,   0.    ,   0.    ,   0.    ],\n",
       "       [  0.    ,   0.    ,   0.    ,   0.    ,  -3.9092,   0.    ,\n",
       "          0.    ,   0.    ,   0.    ,   0.    ,   8.9122,   0.    ,   0.    ],\n",
       "       [  0.    ,   0.    ,   0.    ,   0.    ,  -7.6764,   0.    ,\n",
       "          0.    ,   0.    ,   0.    ,   0.    ,  -5.003 ,  15.553 ,   0.    ],\n",
       "       [  0.    ,   0.    ,   0.    ,   0.    ,   0.    ,   0.    ,\n",
       "          0.    ,  -3.6985,   0.    ,   0.    ,   0.    ,  -2.8734,\n",
       "          6.5719]])"
      ]
     },
     "execution_count": 42,
     "metadata": {},
     "output_type": "execute_result"
    }
   ],
   "source": [
    "np.tril(B)a"
   ]
  },
  {
   "cell_type": "code",
   "execution_count": 21,
   "metadata": {},
   "outputs": [
    {
     "data": {
      "image/png": "[encoded data removed]",
      "text/plain": [
       "<matplotlib.figure.Figure at 0x1142d8d10>"
      ]
     },
     "metadata": {},
     "output_type": "display_data"
    }
   ],
   "source": [
    "k35 = nx.complete_graph(8)\n",
    "nx.draw_circular(k35)"
   ]
  },
  {
   "cell_type": "code",
   "execution_count": 30,
   "metadata": {
    "collapsed": true
   },
   "outputs": [],
   "source": [
    "# Load the true incidence matrix \n",
    "\n",
    "A_full = np.matrix(np.genfromtxt('../../Data/MatlabData/A_complete_true_13bus.csv', dtype=int,delimiter=',')) # l x n\n",
    "A = np.matrix(np.genfromtxt('../../Data/MatlabData/A_true_13bus.csv', dtype=int,delimiter=','))  # l x n\n",
    "abs_incidence = np.abs(A)\n",
    "\n",
    "# Because we have a directed incidence matrix, A.T * A is actually the Laplacian!\n",
    "\n",
    "B = np.matrix(np.genfromtxt('../../Data/MatlabData/B_true_13bus.csv', delimiter=','))  # n x n\n",
    "D = np.matrix(np.genfromtxt('../../Data/MatlabData/D_true_13bus.csv', delimiter=','))  # l x l"
   ]
  },
  {
   "cell_type": "code",
   "execution_count": 73,
   "metadata": {
    "scrolled": true
   },
   "outputs": [
    {
     "data": {
      "image/png": "[encoded data removed]",
      "text/plain": [
       "<matplotlib.figure.Figure at 0x1148b2750>"
      ]
     },
     "metadata": {},
     "output_type": "display_data"
    }
   ],
   "source": [
    "adj = np.dot(abs_incidence.T,abs_incidence)\n",
    "np.fill_diagonal(adj,0)\n",
    "G = nx.from_numpy_matrix(adj)\n",
    "np.random.seed(1)  # The non-circular graphing tools position nodes randomly. This makes it repeatable.\n",
    "\n",
    "\n",
    "nx.draw_spring(G)"
   ]
  },
  {
   "cell_type": "code",
   "execution_count": 19,
   "metadata": {},
   "outputs": [
    {
     "data": {
      "text/plain": [
       "matrix([[ 5, -2, -3],\n",
       "        [-2,  2,  0],\n",
       "        [-3,  0,  3]])"
      ]
     },
     "execution_count": 19,
     "metadata": {},
     "output_type": "execute_result"
    }
   ],
   "source": [
    "# Simplest 3-bus network, 2 lines\n",
    "A = np.matrix([[1,-1,0],[1,0,-1]])\n",
    "D = np.matrix([[2,0],[0,3]])\n",
    "B = A.T * D * A\n",
    "B"
   ]
  },
  {
   "cell_type": "code",
   "execution_count": 21,
   "metadata": {},
   "outputs": [
    {
     "ename": "ValueError",
     "evalue": "shapes (3,3) and (2,2) not aligned: 3 (dim 1) != 2 (dim 0)",
     "output_type": "error",
     "traceback": [
      "\u001b[0;31m---------------------------------------------------------------------------\u001b[0m",
      "\u001b[0;31mValueError\u001b[0m                                Traceback (most recent call last)",
      "\u001b[0;32m<ipython-input-21-179b7094d9e3>\u001b[0m in \u001b[0;36m<module>\u001b[0;34m()\u001b[0m\n\u001b[0;32m----> 1\u001b[0;31m \u001b[0mA\u001b[0m\u001b[0;34m.\u001b[0m\u001b[0mT\u001b[0m \u001b[0;34m*\u001b[0m \u001b[0mA\u001b[0m \u001b[0;34m*\u001b[0m \u001b[0mD\u001b[0m\u001b[0;34m\u001b[0m\u001b[0m\n\u001b[0m",
      "\u001b[0;32m/Users/emunsing/GoogleDrive/Papers/GridStructureEstimation/Coding/Python/env/lib/python2.7/site-packages/numpy/matrixlib/defmatrix.pyc\u001b[0m in \u001b[0;36m__mul__\u001b[0;34m(self, other)\u001b[0m\n\u001b[1;32m    341\u001b[0m         \u001b[0;32mif\u001b[0m \u001b[0misinstance\u001b[0m\u001b[0;34m(\u001b[0m\u001b[0mother\u001b[0m\u001b[0;34m,\u001b[0m \u001b[0;34m(\u001b[0m\u001b[0mN\u001b[0m\u001b[0;34m.\u001b[0m\u001b[0mndarray\u001b[0m\u001b[0;34m,\u001b[0m \u001b[0mlist\u001b[0m\u001b[0;34m,\u001b[0m \u001b[0mtuple\u001b[0m\u001b[0;34m)\u001b[0m\u001b[0;34m)\u001b[0m \u001b[0;34m:\u001b[0m\u001b[0;34m\u001b[0m\u001b[0m\n\u001b[1;32m    342\u001b[0m             \u001b[0;31m# This promotes 1-D vectors to row vectors\u001b[0m\u001b[0;34m\u001b[0m\u001b[0;34m\u001b[0m\u001b[0m\n\u001b[0;32m--> 343\u001b[0;31m             \u001b[0;32mreturn\u001b[0m \u001b[0mN\u001b[0m\u001b[0;34m.\u001b[0m\u001b[0mdot\u001b[0m\u001b[0;34m(\u001b[0m\u001b[0mself\u001b[0m\u001b[0;34m,\u001b[0m \u001b[0masmatrix\u001b[0m\u001b[0;34m(\u001b[0m\u001b[0mother\u001b[0m\u001b[0;34m)\u001b[0m\u001b[0;34m)\u001b[0m\u001b[0;34m\u001b[0m\u001b[0m\n\u001b[0m\u001b[1;32m    344\u001b[0m         \u001b[0;32mif\u001b[0m \u001b[0misscalar\u001b[0m\u001b[0;34m(\u001b[0m\u001b[0mother\u001b[0m\u001b[0;34m)\u001b[0m \u001b[0;32mor\u001b[0m \u001b[0;32mnot\u001b[0m \u001b[0mhasattr\u001b[0m\u001b[0;34m(\u001b[0m\u001b[0mother\u001b[0m\u001b[0;34m,\u001b[0m \u001b[0;34m'__rmul__'\u001b[0m\u001b[0;34m)\u001b[0m \u001b[0;34m:\u001b[0m\u001b[0;34m\u001b[0m\u001b[0m\n\u001b[1;32m    345\u001b[0m             \u001b[0;32mreturn\u001b[0m \u001b[0mN\u001b[0m\u001b[0;34m.\u001b[0m\u001b[0mdot\u001b[0m\u001b[0;34m(\u001b[0m\u001b[0mself\u001b[0m\u001b[0;34m,\u001b[0m \u001b[0mother\u001b[0m\u001b[0;34m)\u001b[0m\u001b[0;34m\u001b[0m\u001b[0m\n",
      "\u001b[0;31mValueError\u001b[0m: shapes (3,3) and (2,2) not aligned: 3 (dim 1) != 2 (dim 0)"
     ]
    }
   ],
   "source": [
    "A.T * A * D"
   ]
  },
  {
   "cell_type": "code",
   "execution_count": 9,
   "metadata": {},
   "outputs": [
    {
     "data": {
      "text/plain": [
       "<matplotlib.colorbar.Colorbar at 0x10cb03dd0>"
      ]
     },
     "execution_count": 9,
     "metadata": {},
     "output_type": "execute_result"
    },
    {
     "data": {
      "image/png": "[encoded data removed]",
      "text/plain": [
       "<matplotlib.figure.Figure at 0x10c662150>"
      ]
     },
     "metadata": {},
     "output_type": "display_data"
    }
   ],
   "source": [
    "plt.imshow(B)\n",
    "plt.colorbar()"
   ]
  },
  {
   "cell_type": "code",
   "execution_count": null,
   "metadata": {
    "collapsed": true
   },
   "outputs": [],
   "source": []
  },
  {
   "cell_type": "code",
   "execution_count": 25,
   "metadata": {},
   "outputs": [
    {
     "data": {
      "text/plain": [
       "matrix([[2, 1],\n",
       "        [1, 2]])"
      ]
     },
     "execution_count": 25,
     "metadata": {},
     "output_type": "execute_result"
    }
   ],
   "source": [
    "A * A.T"
   ]
  }
 ],
 "metadata": {
  "kernelspec": {
   "display_name": "Python 2",
   "language": "python",
   "name": "python2"
  },
  "language_info": {
   "codemirror_mode": {
    "name": "ipython",
    "version": 2
   },
   "file_extension": ".py",
   "mimetype": "text/x-python",
   "name": "python",
   "nbconvert_exporter": "python",
   "pygments_lexer": "ipython2",
   "version": "2.7.12"
  }
 },
 "nbformat": 4,
 "nbformat_minor": 2
}
