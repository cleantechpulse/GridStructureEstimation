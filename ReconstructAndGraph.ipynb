{
 "cells": [
  {
   "cell_type": "code",
   "execution_count": 1,
   "metadata": {},
   "outputs": [
    {
     "name": "stdout",
     "output_type": "stream",
     "text": [
      "Current environment directory:/Users/emunsing/GoogleDrive/Papers/GridStructureEstimation/Coding/Python/env/bin/..\n",
      "System version: 2.7.12 (default, Aug 23 2016, 08:54:23) \n",
      "[GCC 4.2.1 Compatible Apple LLVM 7.3.0 (clang-703.0.31)]\n",
      "Current working directory: /Users/emunsing/GoogleDrive/Papers/GridStructureEstimation/Coding/Python\n"
     ]
    }
   ],
   "source": [
    "import pandas as pd\n",
    "import numpy as np\n",
    "import networkx as nx\n",
    "import os, sys, time\n",
    "import matplotlib.pyplot as plt\n",
    "%matplotlib inline\n",
    "\n",
    "print(\"Current environment directory:\" + sys.prefix)\n",
    "print(\"System version: \"+sys.version)\n",
    "print(\"Current working directory: \"+os.getcwd())"
   ]
  },
  {
   "cell_type": "code",
   "execution_count": 34,
   "metadata": {
    "collapsed": true
   },
   "outputs": [],
   "source": [
    "# Load the true incidence matrix \n",
    "\n",
    "A_full = np.matrix(np.genfromtxt('../../Data/MatlabData/A_complete_true_13bus.csv', dtype=int,delimiter=',')) # l x n\n",
    "A = np.matrix(np.genfromtxt('../../Data/MatlabData/A_true_13bus.csv', dtype=int,delimiter=','))  # l x n\n",
    "abs_incidence = np.abs(A)\n",
    "\n",
    "# Because we have a directed incidence matrix, A.T * A is actually the Laplacian!\n",
    "\n",
    "B = np.matrix(np.genfromtxt('../../Data/MatlabData/B_true_13bus.csv', delimiter=','))  # n x n\n",
    "D = np.matrix(np.genfromtxt('../../Data/MatlabData/D_true_13bus.csv', delimiter=','))  # l x l"
   ]
  },
  {
   "cell_type": "code",
   "execution_count": 3,
   "metadata": {},
   "outputs": [
    {
     "name": "stderr",
     "output_type": "stream",
     "text": [
      "/Users/emunsing/GoogleDrive/Papers/GridStructureEstimation/Coding/Python/env/lib/python2.7/site-packages/networkx/drawing/nx_pylab.py:126: MatplotlibDeprecationWarning: pyplot.hold is deprecated.\n",
      "    Future behavior will be consistent with the long-time default:\n",
      "    plot commands add elements without first clearing the\n",
      "    Axes and/or Figure.\n",
      "  b = plt.ishold()\n",
      "/Users/emunsing/GoogleDrive/Papers/GridStructureEstimation/Coding/Python/env/lib/python2.7/site-packages/networkx/drawing/nx_pylab.py:138: MatplotlibDeprecationWarning: pyplot.hold is deprecated.\n",
      "    Future behavior will be consistent with the long-time default:\n",
      "    plot commands add elements without first clearing the\n",
      "    Axes and/or Figure.\n",
      "  plt.hold(b)\n",
      "/Users/emunsing/GoogleDrive/Papers/GridStructureEstimation/Coding/Python/env/lib/python2.7/site-packages/matplotlib/__init__.py:917: UserWarning: axes.hold is deprecated. Please remove it from your matplotlibrc and/or style files.\n",
      "  warnings.warn(self.msg_depr_set % key)\n",
      "/Users/emunsing/GoogleDrive/Papers/GridStructureEstimation/Coding/Python/env/lib/python2.7/site-packages/matplotlib/rcsetup.py:152: UserWarning: axes.hold is deprecated, will be removed in 3.0\n",
      "  warnings.warn(\"axes.hold is deprecated, will be removed in 3.0\")\n"
     ]
    },
    {
     "data": {
      "image/png": "[encoded data removed]",
      "text/plain": [
       "<matplotlib.figure.Figure at 0x1078b0710>"
      ]
     },
     "metadata": {},
     "output_type": "display_data"
    }
   ],
   "source": [
    "adj = np.dot(abs_incidence.T,abs_incidence)\n",
    "np.fill_diagonal(adj,0)\n",
    "G = nx.from_numpy_matrix(adj)\n",
    "np.random.seed(1)  # The non-circular graphing tools position nodes randomly. This makes it repeatable.\n",
    "\n",
    "nx.draw_spring(G)"
   ]
  },
  {
   "cell_type": "code",
   "execution_count": 60,
   "metadata": {},
   "outputs": [
    {
     "data": {
      "text/plain": [
       "matrix([[  0.    ,   0.    ,   0.    ,   0.    ,   0.    ],\n",
       "        [  0.    ,  33.374 ,  -5.0513,  -5.6715,  -5.7511],\n",
       "        [  0.    ,  -5.0513,  10.898 ,  -5.8469,   0.    ],\n",
       "        [  0.    ,  -5.6715,  -5.8469,  42.011 , -23.747 ],\n",
       "        [  0.    ,  -5.7511,   0.    , -23.747 ,  38.239 ]])"
      ]
     },
     "execution_count": 60,
     "metadata": {},
     "output_type": "execute_result"
    }
   ],
   "source": [
    "# Reconstructing network from B:\n",
    "\n",
    "# Compute the missing vertices by subtracting sum from diagonal\n",
    "\n",
    "# Loop through the lower part of the network, and wherever there is a non-zero entry we populate the A matrix with a 1\n",
    "#  and add the weight to the list of weights\n",
    "\n",
    "B = np.matrix(np.genfromtxt('../../Data/MatlabData/B_true_13bus.csv', delimiter=','))  # n x n\n",
    "\n",
    "threshold = 0.001\n",
    "n = B.shape[0]\n",
    "diag = B.diagonal()\n",
    "delta = np.asarray( B.sum(axis=0) ).reshape( B.shape[0] )  # Results in a 1-d np.ndarray\n",
    "right_mat = np.vstack( (np.zeros([1,n]),B) )\n",
    "B_complete = np.hstack( (np.zeros([n+1,1]),right_mat) )\n",
    "B_complete[0:5,0:5]\n",
    "\n",
    "## Create the augmented B-matrix, including reference bus ###\n",
    "for i in range(B.shape[0]):\n",
    "    if abs(delta[i]) > threshold: # We want to include a new entry in B_complete\n",
    "        print(\"Diff at entry %s\"%i)\n",
    "        B_complete[0,i+1] = -1 * delta[i]\n",
    "        B_complete[i+1,0] = -1 * delta[i]\n",
    "\n",
    "# Now complete the B-matrix diagonal entry:\n",
    "B_complete[0,0] = -1 * B_complete[:,0].sum()"
   ]
  },
  {
   "cell_type": "code",
   "execution_count": 93,
   "metadata": {},
   "outputs": [],
   "source": [
    "### Create A-matrix and D-matrix\n",
    "lowerTri = B_complete\n",
    "np.fill_diagonal(lowerTri,0)\n",
    "lowerTri = np.tril(lowerTri)\n",
    "\n",
    "lineCount = (np.abs(lowerTri) > threshold).sum()\n",
    "\n",
    "D_guess = np.zeros(lineCount)\n",
    "A_guess = np.zeros([lineCount,n+1],'int')\n",
    "\n",
    "lineCounter = 0\n",
    "\n",
    "for j in range(n+1):\n",
    "    for i in range(n+1):\n",
    "        if lowerTri[i,j] < -threshold:\n",
    "            D_guess[lineCounter] = -lowerTri[i,j]\n",
    "            A_guess[lineCounter,i] = 1\n",
    "            A_guess[lineCounter,j] = 1\n",
    "            lineCounter += 1\n",
    "\n",
    "# # This has now fully reconstructed the A-matrix and D-vector from our estimates, as the following code can verify\n",
    "# print(A_guess.sum(axis=0))\n",
    "# print(np.abs(A_full).sum(axis=0))\n",
    "# np.abs(A_full) == A_guess"
   ]
  }
 ],
 "metadata": {
  "kernelspec": {
   "display_name": "Python 2",
   "language": "python",
   "name": "python2"
  },
  "language_info": {
   "codemirror_mode": {
    "name": "ipython",
    "version": 2
   },
   "file_extension": ".py",
   "mimetype": "text/x-python",
   "name": "python",
   "nbconvert_exporter": "python",
   "pygments_lexer": "ipython2",
   "version": "2.7.12"
  }
 },
 "nbformat": 4,
 "nbformat_minor": 2
}
