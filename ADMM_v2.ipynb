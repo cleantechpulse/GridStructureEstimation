{
 "cells": [
  {
   "cell_type": "code",
   "execution_count": 12,
   "metadata": {},
   "outputs": [
    {
     "name": "stdout",
     "output_type": "stream",
     "text": [
      "The autoreload extension is already loaded. To reload it, use:\n",
      "  %reload_ext autoreload\n",
      "Current environment directory:/Users/emunsing/GoogleDrive/Papers/GridStructureEstimation/Coding/Python/env/bin/..\n",
      "System version: 2.7.12 (default, Aug 23 2016, 08:54:23) \n",
      "[GCC 4.2.1 Compatible Apple LLVM 7.3.0 (clang-703.0.31)]\n",
      "Current working directory: /Users/emunsing/GoogleDrive/Papers/GridStructureEstimation/Coding/Python\n"
     ]
    }
   ],
   "source": [
    "import pandas as pd\n",
    "import numpy as np\n",
    "import os, sys, time\n",
    "import matplotlib.pyplot as plt\n",
    "from gridStructureAdmm import *\n",
    "%matplotlib inline\n",
    "%load_ext autoreload\n",
    "%autoreload 2\n",
    "\n",
    "print(\"Current environment directory:\" + sys.prefix)\n",
    "print(\"System version: \"+sys.version)\n",
    "print(\"Current working directory: \"+os.getcwd())"
   ]
  },
  {
   "cell_type": "code",
   "execution_count": 74,
   "metadata": {},
   "outputs": [
    {
     "name": "stdout",
     "output_type": "stream",
     "text": [
      "(14, 2880)\n"
     ]
    },
    {
     "data": {
      "text/html": [
       "<div>\n",
       "<table border=\"1\" class=\"dataframe\">\n",
       "  <thead>\n",
       "    <tr style=\"text-align: right;\">\n",
       "      <th></th>\n",
       "      <th>0</th>\n",
       "      <th>1</th>\n",
       "      <th>2</th>\n",
       "      <th>3</th>\n",
       "      <th>4</th>\n",
       "      <th>5</th>\n",
       "      <th>6</th>\n",
       "      <th>7</th>\n",
       "      <th>8</th>\n",
       "      <th>9</th>\n",
       "      <th>...</th>\n",
       "      <th>2870</th>\n",
       "      <th>2871</th>\n",
       "      <th>2872</th>\n",
       "      <th>2873</th>\n",
       "      <th>2874</th>\n",
       "      <th>2875</th>\n",
       "      <th>2876</th>\n",
       "      <th>2877</th>\n",
       "      <th>2878</th>\n",
       "      <th>2879</th>\n",
       "    </tr>\n",
       "  </thead>\n",
       "  <tbody>\n",
       "    <tr>\n",
       "      <th>0</th>\n",
       "      <td>0.00000</td>\n",
       "      <td>0.0000</td>\n",
       "      <td>0.0000</td>\n",
       "      <td>0.0000</td>\n",
       "      <td>0.0000</td>\n",
       "      <td>0.00000</td>\n",
       "      <td>0.00000</td>\n",
       "      <td>0.00000</td>\n",
       "      <td>0.0000</td>\n",
       "      <td>0.0000</td>\n",
       "      <td>...</td>\n",
       "      <td>0.00000</td>\n",
       "      <td>0.00000</td>\n",
       "      <td>0.0000</td>\n",
       "      <td>0.00000</td>\n",
       "      <td>0.0000</td>\n",
       "      <td>0.00000</td>\n",
       "      <td>0.00000</td>\n",
       "      <td>0.00000</td>\n",
       "      <td>0.0000</td>\n",
       "      <td>0.0000</td>\n",
       "    </tr>\n",
       "    <tr>\n",
       "      <th>1</th>\n",
       "      <td>3.02020</td>\n",
       "      <td>6.8468</td>\n",
       "      <td>2.0008</td>\n",
       "      <td>8.3422</td>\n",
       "      <td>1.3891</td>\n",
       "      <td>2.98270</td>\n",
       "      <td>0.98199</td>\n",
       "      <td>0.33164</td>\n",
       "      <td>6.9741</td>\n",
       "      <td>5.4601</td>\n",
       "      <td>...</td>\n",
       "      <td>0.69175</td>\n",
       "      <td>2.79980</td>\n",
       "      <td>9.5664</td>\n",
       "      <td>0.42373</td>\n",
       "      <td>11.8950</td>\n",
       "      <td>0.37892</td>\n",
       "      <td>2.18580</td>\n",
       "      <td>0.53583</td>\n",
       "      <td>5.9704</td>\n",
       "      <td>9.6420</td>\n",
       "    </tr>\n",
       "    <tr>\n",
       "      <th>2</th>\n",
       "      <td>12.67500</td>\n",
       "      <td>11.0890</td>\n",
       "      <td>8.4806</td>\n",
       "      <td>11.4150</td>\n",
       "      <td>15.5290</td>\n",
       "      <td>12.15700</td>\n",
       "      <td>16.47400</td>\n",
       "      <td>5.43270</td>\n",
       "      <td>11.9490</td>\n",
       "      <td>7.8425</td>\n",
       "      <td>...</td>\n",
       "      <td>11.29200</td>\n",
       "      <td>11.76000</td>\n",
       "      <td>12.0080</td>\n",
       "      <td>6.97020</td>\n",
       "      <td>16.4110</td>\n",
       "      <td>6.53990</td>\n",
       "      <td>9.55350</td>\n",
       "      <td>9.24360</td>\n",
       "      <td>8.1731</td>\n",
       "      <td>13.9160</td>\n",
       "    </tr>\n",
       "    <tr>\n",
       "      <th>3</th>\n",
       "      <td>-0.84783</td>\n",
       "      <td>4.0453</td>\n",
       "      <td>-0.8540</td>\n",
       "      <td>5.5080</td>\n",
       "      <td>-4.4704</td>\n",
       "      <td>-0.62548</td>\n",
       "      <td>-5.14080</td>\n",
       "      <td>-1.61950</td>\n",
       "      <td>3.8641</td>\n",
       "      <td>3.6834</td>\n",
       "      <td>...</td>\n",
       "      <td>-3.34210</td>\n",
       "      <td>-0.94342</td>\n",
       "      <td>6.6678</td>\n",
       "      <td>-2.09480</td>\n",
       "      <td>7.5784</td>\n",
       "      <td>-2.14660</td>\n",
       "      <td>-0.67123</td>\n",
       "      <td>-3.03140</td>\n",
       "      <td>3.9848</td>\n",
       "      <td>6.4751</td>\n",
       "    </tr>\n",
       "    <tr>\n",
       "      <th>4</th>\n",
       "      <td>-0.92462</td>\n",
       "      <td>3.3062</td>\n",
       "      <td>-0.4918</td>\n",
       "      <td>4.7415</td>\n",
       "      <td>-2.9510</td>\n",
       "      <td>-0.85270</td>\n",
       "      <td>-3.70160</td>\n",
       "      <td>-1.25010</td>\n",
       "      <td>3.1867</td>\n",
       "      <td>2.8769</td>\n",
       "      <td>...</td>\n",
       "      <td>-2.60750</td>\n",
       "      <td>-0.77465</td>\n",
       "      <td>5.7766</td>\n",
       "      <td>-1.59720</td>\n",
       "      <td>6.8479</td>\n",
       "      <td>-1.42830</td>\n",
       "      <td>-0.82490</td>\n",
       "      <td>-2.01980</td>\n",
       "      <td>3.3682</td>\n",
       "      <td>5.0635</td>\n",
       "    </tr>\n",
       "  </tbody>\n",
       "</table>\n",
       "<p>5 rows × 2880 columns</p>\n",
       "</div>"
      ],
      "text/plain": [
       "       0        1       2        3        4         5         6        7     \\\n",
       "0   0.00000   0.0000  0.0000   0.0000   0.0000   0.00000   0.00000  0.00000   \n",
       "1   3.02020   6.8468  2.0008   8.3422   1.3891   2.98270   0.98199  0.33164   \n",
       "2  12.67500  11.0890  8.4806  11.4150  15.5290  12.15700  16.47400  5.43270   \n",
       "3  -0.84783   4.0453 -0.8540   5.5080  -4.4704  -0.62548  -5.14080 -1.61950   \n",
       "4  -0.92462   3.3062 -0.4918   4.7415  -2.9510  -0.85270  -3.70160 -1.25010   \n",
       "\n",
       "      8       9      ...         2870      2871     2872     2873     2874  \\\n",
       "0   0.0000  0.0000   ...      0.00000   0.00000   0.0000  0.00000   0.0000   \n",
       "1   6.9741  5.4601   ...      0.69175   2.79980   9.5664  0.42373  11.8950   \n",
       "2  11.9490  7.8425   ...     11.29200  11.76000  12.0080  6.97020  16.4110   \n",
       "3   3.8641  3.6834   ...     -3.34210  -0.94342   6.6678 -2.09480   7.5784   \n",
       "4   3.1867  2.8769   ...     -2.60750  -0.77465   5.7766 -1.59720   6.8479   \n",
       "\n",
       "      2875     2876     2877    2878     2879  \n",
       "0  0.00000  0.00000  0.00000  0.0000   0.0000  \n",
       "1  0.37892  2.18580  0.53583  5.9704   9.6420  \n",
       "2  6.53990  9.55350  9.24360  8.1731  13.9160  \n",
       "3 -2.14660 -0.67123 -3.03140  3.9848   6.4751  \n",
       "4 -1.42830 -0.82490 -2.01980  3.3682   5.0635  \n",
       "\n",
       "[5 rows x 2880 columns]"
      ]
     },
     "execution_count": 74,
     "metadata": {},
     "output_type": "execute_result"
    }
   ],
   "source": [
    "inputData = pd.read_csv('../../Data/MatlabData/240h_MCC.csv',header=None).transpose()\n",
    "print(inputData.shape)\n",
    "inputData.head()"
   ]
  },
  {
   "cell_type": "code",
   "execution_count": 75,
   "metadata": {},
   "outputs": [
    {
     "name": "stdout",
     "output_type": "stream",
     "text": [
      "(13, 2880)\n"
     ]
    }
   ],
   "source": [
    "## Trim data down to a usable size\n",
    "startBus = 1\n",
    "endBus =0\n",
    "startTimeIdx = 0\n",
    "endTimeIdx = 0\n",
    "\n",
    "(n,t) = inputData.shape\n",
    "if (endBus - startBus) <=0: endBus = n\n",
    "if (endTimeIdx - startTimeIdx) <= 0: endTimeIdx = t\n",
    "\n",
    "mcc = inputData.iloc[startBus:endBus, startTimeIdx:endTimeIdx].values\n",
    "(n,t) = mcc.shape       # t: time steps,  n: number of nodes\n",
    "print(mcc.shape)\n",
    "\n",
    "## Setting up for solving the problem\n",
    "\n",
    "# Tuning parameters: Weights in minimization\n",
    "k1 = 1e-3  # This set is Kekatos' experimentally determined coefficients\n",
    "k2 = 5e-4\n",
    "k3 = 1e-2\n",
    "k4 = 1e-1\n",
    "rho = 1e3"
   ]
  },
  {
   "cell_type": "code",
   "execution_count": null,
   "metadata": {},
   "outputs": [],
   "source": [
    "B_guess = estimateB(mcc,rho,k1,k2,k3,k4,1e-3)\n",
    "plt.imshow(B_guess)\n",
    "plt.colorbar()"
   ]
  },
  {
   "cell_type": "code",
   "execution_count": 44,
   "metadata": {},
   "outputs": [
    {
     "data": {
      "text/plain": [
       "<matplotlib.colorbar.Colorbar at 0x10a351e10>"
      ]
     },
     "execution_count": 44,
     "metadata": {},
     "output_type": "execute_result"
    },
    {
     "data": {
      "image/png": "[encoded data removed]",
      "text/plain": [
       "<matplotlib.figure.Figure at 0x10a1c94d0>"
      ]
     },
     "metadata": {},
     "output_type": "display_data"
    }
   ],
   "source": [
    "B = np.matrix(np.genfromtxt('../../Data/MatlabData/B_true_13bus.csv', delimiter=','))  # n x n\n",
    "plt.imshow(B)\n",
    "plt.colorbar()"
   ]
  },
  {
   "cell_type": "code",
   "execution_count": null,
   "metadata": {
    "collapsed": true
   },
   "outputs": [],
   "source": []
  }
 ],
 "metadata": {
  "kernelspec": {
   "display_name": "Python 2",
   "language": "python",
   "name": "python2"
  },
  "language_info": {
   "codemirror_mode": {
    "name": "ipython",
    "version": 2
   },
   "file_extension": ".py",
   "mimetype": "text/x-python",
   "name": "python",
   "nbconvert_exporter": "python",
   "pygments_lexer": "ipython2",
   "version": "2.7.12"
  }
 },
 "nbformat": 4,
 "nbformat_minor": 2
}
